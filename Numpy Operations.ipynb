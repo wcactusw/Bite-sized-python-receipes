{
 "cells": [
  {
   "cell_type": "markdown",
   "metadata": {},
   "source": [
    "### 1. Iterator "
   ]
  },
  {
   "cell_type": "code",
   "execution_count": 11,
   "metadata": {},
   "outputs": [
    {
     "name": "stdout",
     "output_type": "stream",
     "text": [
      "[ 0  5 10 15 20 25 30 35 40 45 50 55]\n",
      "[[ 0  5 10 15]\n",
      " [20 25 30 35]\n",
      " [40 45 50 55]]\n",
      "[ 0  6 12 18]\n",
      "0 0\n",
      "5 6\n",
      "10 12\n",
      "15 18\n",
      "20 0\n",
      "25 6\n",
      "30 12\n",
      "35 18\n",
      "40 0\n",
      "45 6\n",
      "50 12\n",
      "55 18\n"
     ]
    }
   ],
   "source": [
    "import numpy as np\n",
    "a=np.arange(0,60,5)\n",
    "print(a)\n",
    "a=a.reshape(3,4)\n",
    "print(a)\n",
    "b=np.arange(0,24,6)\n",
    "print(b)\n",
    "b=b.reshape(1,4)\n",
    "for x,y in np.nditer([a,b]):\n",
    "    print(x,y)\n"
   ]
  },
  {
   "cell_type": "markdown",
   "metadata": {},
   "source": [
    "### 2. Change shape/size "
   ]
  },
  {
   "cell_type": "code",
   "execution_count": 17,
   "metadata": {},
   "outputs": [
    {
     "name": "stdout",
     "output_type": "stream",
     "text": [
      "[ 0  5 10 15 20 25 30 35 40 45 50 55]\n",
      "[[ 0  5 10 15]\n",
      " [20 25 30 35]\n",
      " [40 45 50 55]]\n",
      "[0, 5, 10, 15, 20, 25, 30, 35, 40, 45, 50, 55]\n",
      "[ 0 20 40  5 25 45 10 30 50 15 35 55]\n",
      "[ 0  5 10 15 20 25 30 35 40 45 50 55]\n",
      "[ 0  5 10 15 20 25 30 35 40 45 50 55]\n",
      "[ 0  5 10 15 20 25 30 35 40 45 50 55]\n"
     ]
    }
   ],
   "source": [
    "a=np.arange(0,60,5)\n",
    "print(a)\n",
    "a=a.reshape(3,4)\n",
    "print(a)\n",
    "\n",
    "print(list(a.flat))\n",
    "print(a.flatten(order='F'))\n",
    "print(a.flatten(order='C'))\n",
    "print(a.flatten(order='A'))\n",
    "print(a.flatten(order='k'))"
   ]
  },
  {
   "cell_type": "markdown",
   "metadata": {},
   "source": [
    "### 3.Transpose"
   ]
  },
  {
   "cell_type": "code",
   "execution_count": 48,
   "metadata": {},
   "outputs": [
    {
     "name": "stdout",
     "output_type": "stream",
     "text": [
      "[[[ 0  1  2  3]\n",
      "  [ 4  5  6  7]\n",
      "  [ 8  9 10 11]]\n",
      "\n",
      " [[12 13 14 15]\n",
      "  [16 17 18 19]\n",
      "  [20 21 22 23]]]\n",
      "[[[ 0 12]\n",
      "  [ 4 16]\n",
      "  [ 8 20]]\n",
      "\n",
      " [[ 1 13]\n",
      "  [ 5 17]\n",
      "  [ 9 21]]\n",
      "\n",
      " [[ 2 14]\n",
      "  [ 6 18]\n",
      "  [10 22]]\n",
      "\n",
      " [[ 3 15]\n",
      "  [ 7 19]\n",
      "  [11 23]]]\n",
      "(4, 3, 2)\n",
      "[[[ 0  1  2  3]\n",
      "  [12 13 14 15]]\n",
      "\n",
      " [[ 4  5  6  7]\n",
      "  [16 17 18 19]]\n",
      "\n",
      " [[ 8  9 10 11]\n",
      "  [20 21 22 23]]]\n",
      "(3, 2, 4)\n",
      "[[[ 0  4  8]\n",
      "  [12 16 20]]\n",
      "\n",
      " [[ 1  5  9]\n",
      "  [13 17 21]]\n",
      "\n",
      " [[ 2  6 10]\n",
      "  [14 18 22]]\n",
      "\n",
      " [[ 3  7 11]\n",
      "  [15 19 23]]]\n",
      "(4, 2, 3)\n",
      "[[[ 0 12]\n",
      "  [ 4 16]\n",
      "  [ 8 20]]\n",
      "\n",
      " [[ 1 13]\n",
      "  [ 5 17]\n",
      "  [ 9 21]]\n",
      "\n",
      " [[ 2 14]\n",
      "  [ 6 18]\n",
      "  [10 22]]\n",
      "\n",
      " [[ 3 15]\n",
      "  [ 7 19]\n",
      "  [11 23]]]\n",
      "(4, 3, 2)\n",
      "[[[ 0  4  8]\n",
      "  [ 1  5  9]\n",
      "  [ 2  6 10]\n",
      "  [ 3  7 11]]\n",
      "\n",
      " [[12 16 20]\n",
      "  [13 17 21]\n",
      "  [14 18 22]\n",
      "  [15 19 23]]]\n",
      "(2, 4, 3)\n"
     ]
    }
   ],
   "source": [
    "a=np.arange(24).reshape(2,3,4)\n",
    "print(a)\n",
    "\n",
    "# use transpose function\n",
    "b=np.transpose(a)\n",
    "print(b)\n",
    "print(b.shape)\n",
    "c=np.transpose(a,(1,0,2))\n",
    "print(c)\n",
    "print(c.shape)\n",
    "\n",
    "# use .T method\n",
    "print(c.T)\n",
    "print(c.T.shape)\n",
    "\n",
    "# use swapaxes function, swap 2 axes\n",
    "d=np.swapaxes(a,2,0)\n",
    "print(d)\n",
    "print(d.shape)\n",
    "\n",
    "# use rollaxis function, apply to 1 axis only \n",
    "e=np.rollaxis(a,1,3)\n",
    "print(e)\n",
    "print(e.shape)"
   ]
  },
  {
   "cell_type": "markdown",
   "metadata": {},
   "source": [
    "### 4. dimension revision "
   ]
  },
  {
   "cell_type": "code",
   "execution_count": 74,
   "metadata": {},
   "outputs": [
    {
     "name": "stdout",
     "output_type": "stream",
     "text": [
      "[[0 1 2 3 4 5]]\n",
      "[[0 1 2]\n",
      " [3 4 5]]\n",
      "[[0 1 2 3 4 5]\n",
      " [0 1 2 3 4 5]]\n",
      "c1: \n",
      " [[[0 1 2]\n",
      "  [3 4 5]]] \n",
      " (1, 2, 3)\n",
      "c2: \n",
      " [[[0 1 2]]\n",
      "\n",
      " [[3 4 5]]] \n",
      " (2, 1, 3)\n",
      "c3: \n",
      " [[[0]\n",
      "  [1]\n",
      "  [2]]\n",
      "\n",
      " [[3]\n",
      "  [4]\n",
      "  [5]]] \n",
      " (2, 3, 1)\n",
      "d1: \n",
      " [[0 1 2]\n",
      " [3 4 5]] \n",
      " (2, 3)\n",
      "d2: \n",
      " [[0 1 2]\n",
      " [3 4 5]] \n",
      " (2, 3)\n",
      "d3: \n",
      " [[0 1 2]\n",
      " [3 4 5]] \n",
      " (2, 3)\n"
     ]
    }
   ],
   "source": [
    "a=np.arange(6).reshape(1,6)\n",
    "print(a)\n",
    "a1=np.arange(6).reshape(2,3)\n",
    "print(a1)\n",
    "\n",
    "# broadcast_to \n",
    "b=np.broadcast_to(a,(2,6))\n",
    "print(b)\n",
    "\n",
    "#expand_dims\n",
    "c1=np.expand_dims(a1, axis=0)\n",
    "print(\"c1:\",'\\n',c1,'\\n', c1.shape)\n",
    "c2=np.expand_dims(a1, axis=1)\n",
    "print('c2:','\\n',c2,'\\n',c2.shape)\n",
    "c3=np.expand_dims(a1, axis=2)\n",
    "print('c3:','\\n',c3,'\\n',c3.shape)\n",
    "\n",
    "#squeeze\n",
    "d1=np.squeeze(c1,0)\n",
    "print('d1:','\\n',d1,'\\n', d1.shape)\n",
    "d2=np.squeeze(c2,1)\n",
    "print('d2:','\\n',d2,'\\n', d2.shape)\n",
    "d3=np.squeeze(c3,2)\n",
    "print('d3:','\\n',d3,'\\n', d3.shape)"
   ]
  },
  {
   "cell_type": "markdown",
   "metadata": {},
   "source": [
    "### 5.  concatenate"
   ]
  },
  {
   "cell_type": "code",
   "execution_count": 85,
   "metadata": {},
   "outputs": [
    {
     "name": "stdout",
     "output_type": "stream",
     "text": [
      "a1= [[4 5]\n",
      " [6 7]] \n",
      " a2= [[0 1]\n",
      " [2 3]]\n",
      "b1= \n",
      " [[4 5]\n",
      " [6 7]\n",
      " [0 1]\n",
      " [2 3]] \n",
      " shape= (4, 2)\n",
      "b2= \n",
      " [[4 5 0 1]\n",
      " [6 7 2 3]] \n",
      " shape= (2, 4)\n",
      "c1= \n",
      " [[[4 5]\n",
      "  [6 7]]\n",
      "\n",
      " [[0 1]\n",
      "  [2 3]]] \n",
      " shape= (2, 2, 2)\n",
      "c2= \n",
      " [[[4 5]\n",
      "  [0 1]]\n",
      "\n",
      " [[6 7]\n",
      "  [2 3]]] \n",
      " shape= (2, 2, 2)\n",
      "d1= \n",
      " [[4 5 0 1]\n",
      " [6 7 2 3]] \n",
      " shape= (2, 4)\n",
      "e1= \n",
      " [[4 5]\n",
      " [6 7]\n",
      " [0 1]\n",
      " [2 3]] \n",
      " shape= (4, 2)\n"
     ]
    }
   ],
   "source": [
    "a1=np.arange(4,8).reshape(2,2)\n",
    "a2=np.arange(0,4).reshape(2,2)\n",
    "print('a1=',a1,'\\n','a2=',a2)\n",
    "\n",
    "## concatenate \n",
    "b1=np.concatenate((a1,a2),axis=0)\n",
    "print('b1=','\\n',b1,'\\n','shape=',b1.shape)\n",
    "b2=np.concatenate((a1,a2),axis=1)\n",
    "print('b2=','\\n',b2,'\\n','shape=',b2.shape)\n",
    "\n",
    "## stack\n",
    "c1=np.stack((a1,a2),0)\n",
    "print('c1=','\\n',c1,'\\n','shape=',c1.shape)\n",
    "c2=np.stack((a1,a2),1)\n",
    "print('c2=','\\n',c2,'\\n','shape=',c2.shape)\n",
    "\n",
    "## hstack\n",
    "d1=np.hstack((a1,a2))\n",
    "print('d1=','\\n',d1,'\\n','shape=',d1.shape)\n",
    "\n",
    "## vstack\n",
    "e1=np.vstack((a1,a2))\n",
    "print('e1=','\\n',e1,'\\n','shape=',e1.shape)"
   ]
  },
  {
   "cell_type": "markdown",
   "metadata": {},
   "source": [
    "### 6. split"
   ]
  },
  {
   "cell_type": "code",
   "execution_count": 97,
   "metadata": {},
   "outputs": [
    {
     "name": "stdout",
     "output_type": "stream",
     "text": [
      "a1= [[0 1 2]\n",
      " [3 4 5]] \n",
      " shape= (2, 3)\n",
      "b1= [array([[0, 1, 2]]), array([[3, 4, 5]])] \n",
      "\n",
      "b2= [array([[0],\n",
      "       [3]]), array([[1],\n",
      "       [4]]), array([[2],\n",
      "       [5]])] \n",
      "\n",
      "c1= [array([[0],\n",
      "       [3]]), array([[1],\n",
      "       [4]]), array([[2],\n",
      "       [5]])] \n",
      "\n",
      "d1= [array([[0, 1, 2]]), array([[3, 4, 5]])] \n",
      "\n"
     ]
    }
   ],
   "source": [
    "a1=np.arange(6).reshape(2,3)\n",
    "print('a1=',a1,'\\n','shape=',a1.shape)\n",
    "\n",
    "### split \n",
    "b1=np.split(a1,2,axis=0)\n",
    "print('b1=',b1,'\\n')\n",
    "b2=np.split(a1,3,axis=1)\n",
    "print('b2=',b2,'\\n')\n",
    "\n",
    "### hsplit \n",
    "c1=np.hsplit(a1,3)\n",
    "print('c1=',c1,'\\n')\n",
    "\n",
    "### vsplit\n",
    "d1=np.vsplit(a1,2)\n",
    "print('d1=',d1,'\\n')"
   ]
  },
  {
   "cell_type": "markdown",
   "metadata": {},
   "source": [
    "### 7. element wise operations"
   ]
  },
  {
   "cell_type": "code",
   "execution_count": 112,
   "metadata": {},
   "outputs": [
    {
     "name": "stdout",
     "output_type": "stream",
     "text": [
      "a1= [[0 1 2]\n",
      " [3 4 5]] \n",
      " shape= (2, 3)\n",
      "a2= [1, 1, 1, 2, 2, 3, 4, 5, 6, 6, 7, 8, 9, 10] \n",
      " indice= [ 0  1  2  3  4  5  6  7  8  9 10 11 12 13]\n",
      "b1= [[0 1]\n",
      " [2 3]\n",
      " [4 5]] \n",
      " shape= (3, 2)\n",
      "b2= [[0 1 2]\n",
      " [3 4 5]\n",
      " [0 1 2]] \n",
      " shape= (3, 3)\n",
      "b3= [[0 1]\n",
      " [2 3]] \n",
      " shape= (2, 2)\n",
      "c1= [[  0   1   2]\n",
      " [  3   4   5]\n",
      " [ 98  99 100]] \n",
      " shape= (3, 3)\n",
      "c2= [[ 0  1  2 98]\n",
      " [ 3  4  5 99]] \n",
      " shape= (2, 4)\n",
      "d1= [[  0   1   2]\n",
      " [ 98  99 100]\n",
      " [  3   4   5]] \n",
      " shape= (3, 3)\n",
      "d2= [[ 0 98  1  2]\n",
      " [ 3 99  4  5]] \n",
      " shape= (2, 4)\n",
      "e1= [0 1 2 3 4] \n",
      " shape= (5,)\n",
      "e2= [[0 1 2]] \n",
      " shape= (1, 3)\n",
      "e3= [[0 1]\n",
      " [3 4]] \n",
      " shape= (2, 2)\n",
      "f1= [ 1  2  3  4  5  6  7  8  9 10]\n",
      "f2= [ 1  2  3  4  5  6  7  8  9 10] \n",
      " indice2= [ 0  3  5  6  7  8 10 11 12 13]\n",
      "f3= [ 1  2  3  4  5  6  7  8  9 10] \n",
      " indice3= [0 0 0 1 1 2 3 4 5 5 6 7 8 9]\n",
      "f4= [ 1  2  3  4  5  6  7  8  9 10] \n",
      " indice4= [3 2 1 1 1 2 1 1 1 1]\n"
     ]
    }
   ],
   "source": [
    "a1=np.arange(6).reshape(2,3)\n",
    "print('a1=',a1,'\\n','shape=',a1.shape)\n",
    "a2=[1,1,1,2,2,3,4,5,6,6,7,8,9,10]\n",
    "indice=np.arange(len(a2))\n",
    "print('a2=',a2,'\\n','indice=',indice)\n",
    "\n",
    "# resize\n",
    "b1=np.resize(a1,(3,2))\n",
    "print('b1=',b1,'\\n','shape=',b1.shape)\n",
    "b2=np.resize(a1,(3,3))\n",
    "print('b2=',b2,'\\n','shape=',b2.shape)\n",
    "b3=np.resize(a1,(2,2))\n",
    "print('b3=',b3,'\\n','shape=',b3.shape)\n",
    "\n",
    "#append \n",
    "c1=np.append(a1,[[98,99,100]],axis=0)\n",
    "print('c1=',c1,'\\n','shape=',c1.shape)\n",
    "c2=np.append(a1,[[98],[99]],axis=1)\n",
    "print('c2=',c2,'\\n','shape=',c2.shape)\n",
    "\n",
    "#insert \n",
    "d1=np.insert(a1,1,[98,99,100],axis=0)\n",
    "print('d1=',d1,'\\n','shape=',d1.shape)\n",
    "d2=np.insert(a1,1,[98,99],axis=1)\n",
    "print('d2=',d2,'\\n','shape=',d2.shape)\n",
    "\n",
    "#delete\n",
    "e1=np.delete(a1,5)\n",
    "print('e1=',e1,'\\n','shape=',e1.shape)\n",
    "e2=np.delete(a1,1,axis=0)\n",
    "print('e2=',e2,'\\n','shape=',e2.shape)\n",
    "e3=np.delete(a1,2,axis=1)\n",
    "print('e3=',e3,'\\n','shape=',e3.shape)\n",
    "\n",
    "#unique \n",
    "f1=np.unique(a2)\n",
    "print('f1=',f1)\n",
    "f2,indice2=np.unique(a2,return_index=True)\n",
    "print('f2=',f2,'\\n','indice2=',indice2)\n",
    "f3,indice3=np.unique(a2,return_inverse=True)\n",
    "print('f3=',f3,'\\n','indice3=',indice3)\n",
    "f4,indice4=np.unique(a2,return_counts=True)\n",
    "print('f4=',f4,'\\n','indice4=',indice4)\n"
   ]
  },
  {
   "cell_type": "markdown",
   "metadata": {},
   "source": [
    "### 8. Strings "
   ]
  },
  {
   "cell_type": "code",
   "execution_count": 120,
   "metadata": {},
   "outputs": [
    {
     "name": "stdout",
     "output_type": "stream",
     "text": [
      "add: ['Hello,world!this is a test.']\n",
      "multiply:  ['Hello,world!Hello,world!Hello,world!']\n",
      "center:  *******Hello!*******\n",
      "capitalize:  ['This is a test.']\n",
      "title:  ['This Is A Test.']\n",
      "lower:  hello\n",
      "upper:  HELLO\n",
      "split:  [list(['Hello', 'world!'])]\n",
      "splitlines:  ['hello', 'world']\n",
      "strip:  ['pple' 'dmin' 'blue']\n",
      "join:  ['d:m:y' 'g-t-w-e-r']\n",
      "replace:  Appl*Tr**\n",
      "encode:  b'\\x88\\x85\\x93\\x93\\x96'\n",
      "decode:  hello\n"
     ]
    }
   ],
   "source": [
    "w1=['Hello,world!']\n",
    "w2=['this is a test.']\n",
    "a=np.char.encode('hello','cp500')\n",
    "\n",
    "print('add:',np.char.add(w1,w2))\n",
    "print('multiply: ',np.char.multiply(w1,3))\n",
    "print('center: ',np.char.center('Hello!', 20, fillchar='*'))\n",
    "print('capitalize: ',np.char.capitalize(w2))\n",
    "print('title: ',np.char.title(w2))\n",
    "print('lower: ', np.char.lower('HELLO'))\n",
    "print('upper: ',np.char.upper('hello'))\n",
    "print('split: ',np.char.split(w1, sep=','))\n",
    "print('splitlines: ', np.char.splitlines('hello\\nworld'))\n",
    "print('strip: ',np.char.strip(['apple','admin','blue'],'a'))\n",
    "print('join: ', np.char.join([\":\",'-'],['dmy','gtwer']))\n",
    "print('replace: ',np.char.replace('AppleTree','e','*'))\n",
    "print('encode: ',np.char.encode('hello','cp500'))\n",
    "print('decode: ',np.char.decode(a,'cp500'))\n",
    "\n"
   ]
  },
  {
   "cell_type": "markdown",
   "metadata": {},
   "source": [
    "### 9. Arithmetic "
   ]
  },
  {
   "cell_type": "code",
   "execution_count": 125,
   "metadata": {},
   "outputs": [
    {
     "name": "stdout",
     "output_type": "stream",
     "text": [
      "[  0  30  60  90 120 150]\n",
      "[1.000e+00 5.000e+00 5.500e+01 1.230e+02 5.670e-01 2.500e+01 5.321e+03]\n",
      "[  0.25   1.     2.     0.2  100.  ]\n",
      "[[3 7 5]\n",
      " [8 4 3]\n",
      " [2 4 9]]\n",
      "sin [0.        0.5       0.8660254 1.        0.8660254 0.5      ]\n",
      "cos [ 1.00000000e+00  8.66025404e-01  5.00000000e-01  6.12323400e-17\n",
      " -5.00000000e-01 -8.66025404e-01]\n",
      "tan [ 0.00000000e+00  5.77350269e-01  1.73205081e+00  1.63312394e+16\n",
      " -1.73205081e+00 -5.77350269e-01]\n",
      "around [1.000e+00 5.000e+00 5.500e+01 1.230e+02 1.000e+00 2.500e+01 5.321e+03]\n",
      "around [1.000e+00 5.000e+00 5.500e+01 1.230e+02 5.700e-01 2.500e+01 5.321e+03]\n",
      "floor [1.000e+00 5.000e+00 5.500e+01 1.230e+02 0.000e+00 2.500e+01 5.321e+03]\n",
      "ceil [1.000e+00 5.000e+00 5.500e+01 1.230e+02 1.000e+00 2.500e+01 5.321e+03]\n",
      "reciprocal [4.   1.   0.5  5.   0.01]\n",
      "power [6.25e-02 1.00e+00 4.00e+00 4.00e-02 1.00e+04]\n",
      "mod [1 2 0 0]\n",
      "amin [3 3 2]\n",
      "amax [8 7 9]\n",
      "ptp 7\n",
      "percentile 4.0\n",
      "median 4.0\n",
      "mean 5.0\n",
      "average 5.0\n",
      "std 1850.183404637111\n",
      "var 3423178.6307945712\n"
     ]
    }
   ],
   "source": [
    "a=np.arange(0,180,30)\n",
    "print(a)\n",
    "b=np.array([1.0,5,55,123,0.567,25,5321])\n",
    "print(b)\n",
    "c=np.array([0.25,1,2,0.2,100])\n",
    "print(c)\n",
    "d=np.array([[3,7,5],[8,4,3],[2,4,9]])\n",
    "print(d)\n",
    "\n",
    "#trignometric\n",
    "print('sin',np.sin(a*np.pi/180))\n",
    "print('cos',np.cos(a*np.pi/180))\n",
    "print('tan',np.tan(a*np.pi/180))\n",
    "\n",
    "#decimal places\n",
    "print('around',np.around(b))\n",
    "print('around',np.around(b, decimals=2))\n",
    "print('floor',np.floor(b))\n",
    "print('ceil',np.ceil(b))\n",
    "\n",
    "#arithmetic\n",
    "print('reciprocal',np.reciprocal(c))\n",
    "print('power',np.power(c,2))\n",
    "print('mod',np.mod([1,5,8,20],[2,3,4,5]))\n",
    "\n",
    "#statistical\n",
    "print('amin',np.amin(d,axis=1))\n",
    "print('amax',np.amax(d,axis=0))\n",
    "print('ptp',np.ptp(d))\n",
    "print('percentile',np.percentile(d,50))\n",
    "print('median',np.median(d))\n",
    "print('mean',np.mean(d))\n",
    "print('average',np.average(d))\n",
    "print('std',np.std(b))\n",
    "print('var',np.var(b))\n"
   ]
  },
  {
   "cell_type": "markdown",
   "metadata": {},
   "source": [
    "### 10. Sort, search and count "
   ]
  },
  {
   "cell_type": "code",
   "execution_count": 126,
   "metadata": {},
   "outputs": [
    {
     "name": "stdout",
     "output_type": "stream",
     "text": [
      "sort: [[ 1  2  3  5  7]\n",
      " [-5  3  4  8  9]\n",
      " [ 0  2  3  4  9]]\n",
      "argsort: [[3 4 0 2 1]\n",
      " [3 2 1 0 4]\n",
      " [3 0 4 1 2]]\n",
      "argmax: 9\n",
      "argmin: 8\n",
      "nonzero: (array([0, 0, 0, 0, 0, 1, 1, 1, 1, 1, 2, 2, 2, 2], dtype=int64), array([0, 1, 2, 3, 4, 0, 1, 2, 3, 4, 0, 1, 2, 4], dtype=int64))\n",
      "where: (array([0, 0, 1, 2, 2], dtype=int64), array([3, 4, 3, 0, 3], dtype=int64))\n",
      "lexsort: [2 0 1]\n"
     ]
    }
   ],
   "source": [
    "a=np.array([[3,7,5,1,2],[8,4,3,-5,9],[2,4,9,0,3]])\n",
    "nm=['rawer','wqrfsdf','hjwerty']\n",
    "dv=['f.y.','s.t.','f.y.']\n",
    "            \n",
    "print('sort:', np.sort(a))\n",
    "print('argsort:',np.argsort(a))\n",
    "print('argmax:',np.argmax(a))\n",
    "print('argmin:',np.argmin(a))\n",
    "print('nonzero:',np.nonzero(a))\n",
    "print('where:',np.where(a<3))\n",
    "print('lexsort:',np.lexsort((dv,nm)))\n",
    "\n",
    "\n",
    "        "
   ]
  },
  {
   "cell_type": "code",
   "execution_count": null,
   "metadata": {},
   "outputs": [],
   "source": []
  }
 ],
 "metadata": {
  "kernelspec": {
   "display_name": "Python 3",
   "language": "python",
   "name": "python3"
  },
  "language_info": {
   "codemirror_mode": {
    "name": "ipython",
    "version": 3
   },
   "file_extension": ".py",
   "mimetype": "text/x-python",
   "name": "python",
   "nbconvert_exporter": "python",
   "pygments_lexer": "ipython3",
   "version": "3.8.5"
  }
 },
 "nbformat": 4,
 "nbformat_minor": 4
}
